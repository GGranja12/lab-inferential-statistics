{
 "cells": [
  {
   "cell_type": "markdown",
   "id": "7068fb58-1cc8-46b1-88a9-e717779e7d62",
   "metadata": {},
   "source": [
    "## Lab | Inferential statistics"
   ]
  },
  {
   "cell_type": "markdown",
   "id": "6eae5f10-e62b-4e51-9d8d-4b111a1a39cb",
   "metadata": {},
   "source": [
    "## Instructions\n",
    "\n",
    "1. It is assumed that the mean systolic blood pressure is μ = 120 mm Hg. In the Honolulu Heart Study, a sample of n = 100 people had an average systolic blood pressure of 130.1 mm Hg with a standard deviation of 21.21 mm Hg. Is the group significantly different (with respect to systolic blood\n",
    "pressure!) from the regular population?\n",
    "\n",
    "- Set up the hypothesis test.\n",
    "- Write down all the steps followed for setting up the test.\n",
    "- Calculate the test statistic by hand and also code it in Python.alue."
   ]
  },
  {
   "cell_type": "code",
   "execution_count": 32,
   "id": "b912f177-ad2a-4fb5-9a0a-626642a310a5",
   "metadata": {},
   "outputs": [],
   "source": [
    "# Relevant libraries\n",
    "import numpy as np\n",
    "import scipy.stats as stats"
   ]
  },
  {
   "cell_type": "markdown",
   "id": "39f2efa2-b73f-4c39-bd51-f47c28873609",
   "metadata": {},
   "source": [
    "### Step 1: Setting up the hypothesis\n",
    "- **Null Hypothesis (H₀)**: The mean systolic blood pressure is **equal** to 120 mm Hg.\n",
    "\n",
    "- **Alternative Hypothesis (H₁)**: The mean systolic blood pressure is **not equal** to 120 mm Hg.\n",
    "\n",
    "We will perform a **two-tailed test** given that the question asks wether the group's average systolic blood pressure is **different** from the population's mean."
   ]
  },
  {
   "cell_type": "markdown",
   "id": "ddae4c22-1216-4b7f-818a-3d1a57b380b5",
   "metadata": {},
   "source": [
    "### Step 2: Choose Significance Level"
   ]
  },
  {
   "cell_type": "code",
   "execution_count": 75,
   "id": "bbcd0a98-03ff-4946-911e-2c76634a3d18",
   "metadata": {},
   "outputs": [],
   "source": [
    "alpha = 0.05  # 95% confidence level"
   ]
  },
  {
   "cell_type": "markdown",
   "id": "9333e864-e99d-4b88-a89e-09d1cad9fc07",
   "metadata": {},
   "source": [
    "### Step 3: Calculate Test Statistic by hand"
   ]
  },
  {
   "cell_type": "code",
   "execution_count": 78,
   "id": "c417bf58-6ee5-4bdc-8a0b-d2825a4a74c3",
   "metadata": {},
   "outputs": [],
   "source": [
    "n = 100 #sample \n",
    "mean = 130.1\n",
    "s = 21.21  # Sample standard deviation\n",
    "mu = 120  # Hypothesized population mean"
   ]
  },
  {
   "cell_type": "code",
   "execution_count": 80,
   "id": "eebcc87c-710d-4c7c-94a8-5fb37bbf0fdf",
   "metadata": {},
   "outputs": [
    {
     "name": "stdout",
     "output_type": "stream",
     "text": [
      "Test Statistic (t): 4.76190\n"
     ]
    }
   ],
   "source": [
    "t_stat = (mean - mu) / (s / np.sqrt(n))\n",
    "print(f\"Test Statistic (t): {t_stat:.5f}\")"
   ]
  },
  {
   "cell_type": "markdown",
   "id": "b2acc3c2-5958-44f1-af34-177c7bff738b",
   "metadata": {},
   "source": [
    "### Step 4: Determining the p-Value"
   ]
  },
  {
   "cell_type": "code",
   "execution_count": 73,
   "id": "edbaf83f-c2ca-4435-bd94-87bf3add9e94",
   "metadata": {},
   "outputs": [
    {
     "name": "stdout",
     "output_type": "stream",
     "text": [
      "P-Value: 0.0000066\n"
     ]
    }
   ],
   "source": [
    "#The lab does not require it but the purpose of calculting the test statistic is to determine the p-value. \n",
    "# Afterwars we may use this p-value to infer wether the H0 should or not be rejected.\n",
    "p_value = stats.t.sf(np.abs(t_stat), df=n-1) * 2  # Multiply by 2 for a two-tailed test\n",
    "print(f\"P-Value: {p_value:.7f}\")"
   ]
  },
  {
   "cell_type": "markdown",
   "id": "773b9e51-0e60-465e-b70d-b26f78da040e",
   "metadata": {},
   "source": [
    "### Python code to calculate Test Statistic and p-value using the sample data"
   ]
  },
  {
   "cell_type": "code",
   "execution_count": null,
   "id": "156eeb5e-25aa-4928-b7b6-a7956dcca53e",
   "metadata": {},
   "outputs": [],
   "source": [
    "t_stat, p_value = stats.ttest_1samp(\"sample\", mu) #sample must be replaced by the Honolulu Heart Study 100 individuals sample\n",
    "print(f\"Test Statistic (t): {t_stat:.5f}\")\n",
    "print(f\"P-Value: {p_value:.7f}\")"
   ]
  },
  {
   "cell_type": "markdown",
   "id": "d02f413b-03c4-4e32-b5ae-421e13fbe839",
   "metadata": {},
   "source": [
    "##### Final step: Either if we calculate test statistic mannualy or using Pyhton libraries we should then the determined p-value to state our decision-making:"
   ]
  },
  {
   "cell_type": "code",
   "execution_count": 89,
   "id": "e299ff30-be2a-4179-8916-45e0917d37d5",
   "metadata": {},
   "outputs": [
    {
     "name": "stdout",
     "output_type": "stream",
     "text": [
      "Reject the Null Hypothesis: There is evidence to say the average systolic blood pressure is different from 120 mm Hg.\n"
     ]
    }
   ],
   "source": [
    "if p_value > alpha:\n",
    "    print(\"Fail to Reject the Null Hypothesis: Not enough evidence to say the average systolic blood pressure is different from 120 mm Hg.\")\n",
    "else:\n",
    "    print(\"Reject the Null Hypothesis: There is evidence to say the average systolic blood pressure is different from 120 mm Hg.\")"
   ]
  }
 ],
 "metadata": {
  "kernelspec": {
   "display_name": "Python 3 (ipykernel)",
   "language": "python",
   "name": "python3"
  },
  "language_info": {
   "codemirror_mode": {
    "name": "ipython",
    "version": 3
   },
   "file_extension": ".py",
   "mimetype": "text/x-python",
   "name": "python",
   "nbconvert_exporter": "python",
   "pygments_lexer": "ipython3",
   "version": "3.12.4"
  }
 },
 "nbformat": 4,
 "nbformat_minor": 5
}
